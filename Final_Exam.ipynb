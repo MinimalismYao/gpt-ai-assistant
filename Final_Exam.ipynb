{
  "nbformat": 4,
  "nbformat_minor": 0,
  "metadata": {
    "colab": {
      "provenance": [],
      "authorship_tag": "ABX9TyPVFsT6cTG1ZEXxst2qbs1z",
      "include_colab_link": true
    },
    "kernelspec": {
      "name": "python3",
      "display_name": "Python 3"
    },
    "language_info": {
      "name": "python"
    },
    "accelerator": "TPU"
  },
  "cells": [
    {
      "cell_type": "markdown",
      "metadata": {
        "id": "view-in-github",
        "colab_type": "text"
      },
      "source": [
        "<a href=\"https://colab.research.google.com/github/MinimalismYao/gpt-ai-assistant/blob/main/Final_Exam.ipynb\" target=\"_parent\"><img src=\"https://colab.research.google.com/assets/colab-badge.svg\" alt=\"Open In Colab\"/></a>"
      ]
    },
    {
      "cell_type": "markdown",
      "source": [
        "# 成績管理系統"
      ],
      "metadata": {
        "id": "32ClpU_QjfHz"
      }
    },
    {
      "cell_type": "code",
      "execution_count": 1,
      "metadata": {
        "colab": {
          "base_uri": "https://localhost:8080/"
        },
        "id": "WTHPahu8IxMu",
        "outputId": "bc98ab32-f435-4d03-a51b-172a3cd25f95"
      },
      "outputs": [
        {
          "output_type": "stream",
          "name": "stdout",
          "text": [
            "請輸入學生的成績(輸入 -1 結束輸入)\n",
            "第1次輸入\n",
            "請輸入成績: 85\n",
            "第2次輸入\n",
            "請輸入成績: 98\n",
            "第3次輸入\n",
            "請輸入成績: 74\n",
            "第4次輸入\n",
            "請輸入成績: 86\n",
            "第5次輸入\n",
            "請輸入成績: -1\n",
            "\n",
            "總共有4筆成績。\n",
            "平均分數: 85.75\n",
            "最高分: 98\n",
            "最低分: 74\n",
            "\n"
          ]
        }
      ],
      "source": [
        "def enter_score():\n",
        "    scores = []\n",
        "    times = 1\n",
        "    print(\"請輸入學生的成績(輸入 -1 結束輸入)\")\n",
        "    while True:\n",
        "        print(f\"第{times}次輸入\")\n",
        "        times += 1\n",
        "        try:\n",
        "            score = int(input(\"請輸入成績: \"))\n",
        "            if score != -1:\n",
        "                scores.append(score)\n",
        "            else:\n",
        "                break\n",
        "        except ValueError:\n",
        "            print(\"請輸入有效的數字。\")\n",
        "            times -= 1\n",
        "    return scores, times\n",
        "\n",
        "def calculate_statistics(scores):\n",
        "    if not scores:\n",
        "        return None\n",
        "    total = sum(scores)\n",
        "    max_score = max(scores)\n",
        "    min_score = min(scores)\n",
        "    average_score = round(total / len(scores),2)\n",
        "    return average_score, max_score, min_score\n",
        "\n",
        "scores, times = enter_score()\n",
        "result = calculate_statistics(scores)\n",
        "if scores:\n",
        "    average_score, max_score, min_score = result\n",
        "    print(f\"\\n總共有{times-2}筆成績。\\n\"\n",
        "          f\"平均分數: {average_score}\\n\"\n",
        "          f\"最高分: {max_score}\\n\"\n",
        "          f\"最低分: {min_score}\\n\")\n",
        "else:\n",
        "    print(\"尚未輸入成績。\")"
      ]
    },
    {
      "cell_type": "markdown",
      "source": [
        "# 個人健康數據分析"
      ],
      "metadata": {
        "id": "a0wFUb8tjuX2"
      }
    },
    {
      "cell_type": "code",
      "source": [
        "def analyze_health_data(heart_rates,steps):\n",
        "  average_heart = sum(heart_rates)/len(heart_rates)\n",
        "  total_steps = sum(steps)\n",
        "  print(f\"平均心率{average_heart}\\n總步數{total_steps}\")\n",
        "heart_rates = [70,75,80,65,60 ]\n",
        "steps=[10000,11000,10500,12000,8000]\n",
        "analyze_health_data(heart_rates, steps)"
      ],
      "metadata": {
        "id": "3mO3G6yUKw_i",
        "colab": {
          "base_uri": "https://localhost:8080/"
        },
        "outputId": "78de9e54-cd9d-4a01-b144-5824318899b6"
      },
      "execution_count": 3,
      "outputs": [
        {
          "output_type": "stream",
          "name": "stdout",
          "text": [
            "平均心率70.0\n",
            "總步數51500\n"
          ]
        }
      ]
    },
    {
      "cell_type": "markdown",
      "source": [
        "# 書店庫存管理系統--class"
      ],
      "metadata": {
        "id": "ryWLrHSZj5a3"
      }
    },
    {
      "cell_type": "code",
      "source": [
        "class Bookstore:\n",
        "    def __init__(self):\n",
        "        self.books = {}\n",
        "\n",
        "    def add_book(self, title, author, stock):\n",
        "        self.books[title] = {'author': author, 'stock': stock}\n",
        "\n",
        "    def update_stock(self, title, new_stock):\n",
        "        if title in self.books:\n",
        "            self.books[title]['stock'] = new_stock\n",
        "        else:\n",
        "            print(f\"'{title}'查無此書\")\n",
        "\n",
        "    def display_books(self):\n",
        "        print(\"書店裡的書:\")\n",
        "        for title, details in self.books.items():\n",
        "            print(f\"書名: {title}, 作者: {details['author']}, 庫存: {details['stock']}\")\n",
        "\n",
        "    def delete_book(self, title):\n",
        "        if title in self.books:\n",
        "            del self.books[title]\n",
        "            print(f\"'{title}'已刪除\")\n",
        "        else:\n",
        "            print(f\"'{title}'查無此書\")\n",
        "\n",
        "# 主程序\n",
        "bookstore = Bookstore()\n",
        "\n",
        "while True:\n",
        "    print(\"\\n1.添加書籍\\n2.更新庫存\\n3.顯示所有書籍\\n4.刪除書籍\\n5.退出\")\n",
        "\n",
        "    choice = input(\"請選擇操作(1-5): \")\n",
        "\n",
        "    if choice == '1':\n",
        "        title = input(\"輸入書名:\")\n",
        "        author = input(\"輸入作者名稱:\")\n",
        "        stock = int(input(\"請輸入庫存數量:\"))\n",
        "        bookstore.add_book(title, author, stock)\n",
        "\n",
        "    elif choice == '2':\n",
        "        title = input(\"輸入要更新的書名:\")\n",
        "        new_stock = int(input(\"請輸入新的庫存數量:\"))\n",
        "        bookstore.update_stock(title, new_stock)\n",
        "\n",
        "    elif choice == '3':\n",
        "        bookstore.display_books()\n",
        "\n",
        "    elif choice == '4':\n",
        "        title = input(\"請輸入要刪除的書名:\")\n",
        "        bookstore.delete_book(title)\n",
        "\n",
        "    elif choice == '5':\n",
        "        print(\"系統結束!\")\n",
        "        break\n",
        "\n",
        "    else:\n",
        "        print(\"無效選擇。\")\n"
      ],
      "metadata": {
        "colab": {
          "base_uri": "https://localhost:8080/"
        },
        "id": "Gs1erlP4iP9h",
        "outputId": "66e3b314-7ba7-4a9f-f4a2-c797dfb55e6e"
      },
      "execution_count": 4,
      "outputs": [
        {
          "output_type": "stream",
          "name": "stdout",
          "text": [
            "\n",
            "1.添加書籍\n",
            "2.更新庫存\n",
            "3.顯示所有書籍\n",
            "4.刪除書籍\n",
            "5.退出\n",
            "請選擇操作(1-5): 1\n",
            "輸入書名:789\n",
            "輸入作者名稱:45\n",
            "請輸入庫存數量:111\n",
            "\n",
            "1.添加書籍\n",
            "2.更新庫存\n",
            "3.顯示所有書籍\n",
            "4.刪除書籍\n",
            "5.退出\n",
            "請選擇操作(1-5): 3\n",
            "書店裡的書:\n",
            "書名: 789, 作者: 45, 庫存: 111\n",
            "\n",
            "1.添加書籍\n",
            "2.更新庫存\n",
            "3.顯示所有書籍\n",
            "4.刪除書籍\n",
            "5.退出\n",
            "請選擇操作(1-5): 2\n",
            "輸入要更新的書名:789\n",
            "請輸入新的庫存數量:1\n",
            "\n",
            "1.添加書籍\n",
            "2.更新庫存\n",
            "3.顯示所有書籍\n",
            "4.刪除書籍\n",
            "5.退出\n",
            "請選擇操作(1-5): 3\n",
            "書店裡的書:\n",
            "書名: 789, 作者: 45, 庫存: 1\n",
            "\n",
            "1.添加書籍\n",
            "2.更新庫存\n",
            "3.顯示所有書籍\n",
            "4.刪除書籍\n",
            "5.退出\n",
            "請選擇操作(1-5): 4\n",
            "請輸入要刪除的書名:789\n",
            "'789'已刪除\n",
            "\n",
            "1.添加書籍\n",
            "2.更新庫存\n",
            "3.顯示所有書籍\n",
            "4.刪除書籍\n",
            "5.退出\n",
            "請選擇操作(1-5): 3\n",
            "書店裡的書:\n",
            "\n",
            "1.添加書籍\n",
            "2.更新庫存\n",
            "3.顯示所有書籍\n",
            "4.刪除書籍\n",
            "5.退出\n",
            "請選擇操作(1-5): 5\n",
            "系統結束!\n"
          ]
        }
      ]
    },
    {
      "cell_type": "markdown",
      "source": [
        "# 書店庫存管理系統--sample"
      ],
      "metadata": {
        "id": "4q_LQ1_xj-jT"
      }
    },
    {
      "cell_type": "code",
      "source": [
        "\n"
      ],
      "metadata": {
        "id": "msCv8fU_ip7z"
      },
      "execution_count": null,
      "outputs": []
    }
  ]
}